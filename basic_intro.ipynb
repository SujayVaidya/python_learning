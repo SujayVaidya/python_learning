{
  "cells": [
    {
      "cell_type": "markdown",
      "metadata": {
        "id": "view-in-github",
        "colab_type": "text"
      },
      "source": [
        "<a href=\"https://colab.research.google.com/github/SujayVaidya/python_learning/blob/main/basic_intro.ipynb\" target=\"_parent\"><img src=\"https://colab.research.google.com/assets/colab-badge.svg\" alt=\"Open In Colab\"/></a>"
      ]
    },
    {
      "cell_type": "markdown",
      "metadata": {
        "id": "O3dPjLo0IbX2"
      },
      "source": [
        "Python - Introduction And Basics"
      ]
    },
    {
      "cell_type": "markdown",
      "metadata": {
        "id": "CPcXJ3ZrIbX3"
      },
      "source": [
        "Python is an interpreted, high-level language. Unlike JavaScript, it doesn't use {} or ;.Example"
      ]
    },
    {
      "cell_type": "code",
      "execution_count": null,
      "metadata": {
        "id": "gKeIuJPqIbX3"
      },
      "outputs": [],
      "source": [
        "\n",
        "print('Hello World');"
      ]
    },
    {
      "cell_type": "markdown",
      "metadata": {
        "id": "N_y_huOcIbX3"
      },
      "source": [
        "User Input in Python"
      ]
    },
    {
      "cell_type": "code",
      "execution_count": null,
      "metadata": {
        "id": "5MbLGemUIbX4",
        "outputId": "a9d70df2-3cce-4b09-8e2d-d222350eb25f"
      },
      "outputs": [
        {
          "name": "stdout",
          "output_type": "stream",
          "text": [
            "python is correct answer\n"
          ]
        }
      ],
      "source": [
        "lang = input('which programming language you are learning?')\n",
        "\n",
        "if lang != 'python':\n",
        "    print(lang, 'is wrong answer')\n",
        "else:\n",
        "    print(lang, 'is correct answer')\n",
        "# print(lang) #directly type from keyboard , it is not crashing , just type anything and press enter"
      ]
    },
    {
      "cell_type": "markdown",
      "metadata": {
        "id": "ShBZo-tiIbX4"
      },
      "source": [
        "Type Casting inputs"
      ]
    },
    {
      "cell_type": "markdown",
      "metadata": {
        "id": "T6felCYpIbX4"
      },
      "source": [
        " Python’s built-in input() function always returns a str(string) class object. So for taking integer input we have to type cast those inputs into integers by using Python built-in int() function."
      ]
    },
    {
      "cell_type": "code",
      "execution_count": null,
      "metadata": {
        "id": "CnFzQnnxIbX5",
        "outputId": "a32c5757-036e-45fa-abab-dcfc9213cc0a"
      },
      "outputs": [
        {
          "name": "stdout",
          "output_type": "stream",
          "text": [
            "12\n",
            "<class 'int'>\n"
          ]
        }
      ],
      "source": [
        "number = int(input('enter any number'))\n",
        "print(number)\n",
        "print(type(number))"
      ]
    },
    {
      "cell_type": "markdown",
      "metadata": {
        "id": "AfFQ2sL7IbX5"
      },
      "source": [
        "Multiple user inputs"
      ]
    },
    {
      "cell_type": "markdown",
      "metadata": {
        "id": "Lz3t4h1aIbX5"
      },
      "source": [
        "we can do that using multiple methods. But for here, we are using split method only. We can use map and list method too! Read more at: https://www.geeksforgeeks.org/taking-multiple-inputs-from-user-in-python/?ref=lbp"
      ]
    },
    {
      "cell_type": "code",
      "execution_count": null,
      "metadata": {
        "id": "rDNC6ka1IbX5",
        "outputId": "6b0c381e-e222-4af7-bcf2-4a9d77e33a1d"
      },
      "outputs": [
        {
          "name": "stdout",
          "output_type": "stream",
          "text": [
            "1 2\n"
          ]
        }
      ],
      "source": [
        "x , y = input('enter two numbers').split()\n",
        "print(x,y) #enter two numbers by pressing spaceBar in between"
      ]
    },
    {
      "cell_type": "markdown",
      "metadata": {
        "id": "aMNStFHtIbX5"
      },
      "source": [
        "Variables and Data Types In Python"
      ]
    },
    {
      "cell_type": "markdown",
      "metadata": {
        "id": "xgXn3WlNIbX6"
      },
      "source": [
        "Python is dynamically typed, so no need to declare types like let, const, or var. Examples"
      ]
    },
    {
      "cell_type": "code",
      "execution_count": null,
      "metadata": {
        "id": "PFvIqftMIbX6",
        "outputId": "b00859ab-7e0b-414c-960f-284c2db28822"
      },
      "outputs": [
        {
          "name": "stdout",
          "output_type": "stream",
          "text": [
            "Sujay 28 True ['React js', 'React native', 'js', 'python'] {'city': 'Pune', 'State': 'Maharashtra', 'Country': 'India', 'area': 'Yerawada'}\n"
          ]
        }
      ],
      "source": [
        "#Example\n",
        "name = 'Sujay'\n",
        "age = 28\n",
        "is_developer = True\n",
        "skills = ['React js','React native','js','python']\n",
        "address = {\n",
        "    'city' : 'Pune',\n",
        "    'State' : 'Maharashtra',\n",
        "    'Country' : 'India'\n",
        "\n",
        "}\n",
        "address['area'] = 'Yerawada'\n",
        "print(name,age,is_developer,skills,address)\n"
      ]
    },
    {
      "cell_type": "markdown",
      "metadata": {
        "id": "LIEhiwQUIbX6"
      },
      "source": [
        "Variables can change their type during the program's execution. Example:"
      ]
    },
    {
      "cell_type": "code",
      "execution_count": null,
      "metadata": {
        "id": "bnun_IWpIbX6",
        "outputId": "bec25ad2-e450-492c-c9e1-364229eb3b9e"
      },
      "outputs": [
        {
          "name": "stdout",
          "output_type": "stream",
          "text": [
            "Sujay <class 'str'>\n",
            "30 <class 'int'>\n",
            "True\n"
          ]
        }
      ],
      "source": [
        "value = 'Sujay' #initially string\n",
        "print(value,type(value))\n",
        "\n",
        "value = 30 #changed to integer\n",
        "print(value,type(value))\n",
        "\n",
        "print(type(value) == type(age)) # checking type"
      ]
    },
    {
      "cell_type": "markdown",
      "metadata": {
        "id": "ksJWf5KbIbX6"
      },
      "source": [
        "Functions in Python"
      ]
    },
    {
      "cell_type": "markdown",
      "metadata": {
        "id": "9TuxSPS8IbX6"
      },
      "source": [
        "Functions in Python are defined using def. F-strings (f\"text {var}\") are used for string interpolation, similar to template literals in JS.\n"
      ]
    },
    {
      "cell_type": "code",
      "execution_count": null,
      "metadata": {
        "id": "Xa9DwT7zIbX6",
        "outputId": "02a6664c-a461-4276-9008-b910193bca1c"
      },
      "outputs": [
        {
          "name": "stdout",
          "output_type": "stream",
          "text": [
            "hello Sujay\n"
          ]
        }
      ],
      "source": [
        "def greetings(name=''): #same as in js greetings(name|| '')\n",
        "    return f\"hello {name}\" #same as (js) return `Hello ${name}`\n",
        "print(greetings('Sujay'))\n"
      ]
    },
    {
      "cell_type": "markdown",
      "metadata": {
        "id": "gTr8lc4fIbX6"
      },
      "source": [
        "User Input in python"
      ]
    },
    {
      "cell_type": "code",
      "execution_count": null,
      "metadata": {
        "id": "OtxZ1HZ5IbX6"
      },
      "outputs": [],
      "source": [
        "lang = input('which language you are learning')\n",
        "print(lang)"
      ]
    },
    {
      "cell_type": "markdown",
      "metadata": {
        "id": "mUboDBnFIbX6"
      },
      "source": [
        "Control Structures in Python"
      ]
    },
    {
      "cell_type": "markdown",
      "metadata": {
        "id": "h80T3lfMIbX6"
      },
      "source": [
        "if else"
      ]
    },
    {
      "cell_type": "code",
      "execution_count": null,
      "metadata": {
        "id": "YhPz_c4gIbX7",
        "outputId": "43c5107f-da37-4780-bc41-bf18d9131772"
      },
      "outputs": [
        {
          "name": "stdout",
          "output_type": "stream",
          "text": [
            "more value\n"
          ]
        }
      ],
      "source": [
        "x= 10\n",
        "if x < 5:\n",
        "    print('less value')\n",
        "else:\n",
        "    print('more value')"
      ]
    },
    {
      "cell_type": "markdown",
      "metadata": {
        "id": "2-xQm_ptIbX7"
      },
      "source": [
        "if else ladder"
      ]
    },
    {
      "cell_type": "code",
      "execution_count": null,
      "metadata": {
        "id": "CpdAGTywIbX7",
        "outputId": "488f8caa-9348-4546-aaae-e539c22d8ad9"
      },
      "outputs": [
        {
          "name": "stdout",
          "output_type": "stream",
          "text": [
            "even number\n"
          ]
        }
      ],
      "source": [
        "y = -2\n",
        "if y % 2 == 0:\n",
        "    print('even number')\n",
        "elif y % 2 == 1:\n",
        "    print('odd number')\n",
        "else:\n",
        "    print('something else')"
      ]
    },
    {
      "cell_type": "markdown",
      "metadata": {
        "id": "MIY3sRUhIbX7"
      },
      "source": [
        "match case"
      ]
    },
    {
      "cell_type": "code",
      "execution_count": null,
      "metadata": {
        "id": "oYpD-VBeIbX7"
      },
      "outputs": [],
      "source": [
        "#match case is same as switch case in js"
      ]
    },
    {
      "cell_type": "code",
      "execution_count": null,
      "metadata": {
        "id": "CnBY5CCoIbX7",
        "outputId": "dd7f3fcf-ba03-48da-d950-01981a439d2b"
      },
      "outputs": [
        {
          "name": "stdout",
          "output_type": "stream",
          "text": [
            "selected language is curl\n",
            "okay other language it is\n"
          ]
        }
      ],
      "source": [
        "lang = input('select your programming language')\n",
        "print('selected language is',lang)\n",
        "match(lang):\n",
        "    case 'js':\n",
        "        print('yay!!')\n",
        "    case 'java':\n",
        "        print('no no no')\n",
        "    case 'php':\n",
        "        print('umm no!')\n",
        "    case _:\n",
        "        print('okay other language it is')"
      ]
    },
    {
      "cell_type": "markdown",
      "metadata": {
        "id": "Pr8dDFWGIbX7"
      },
      "source": [
        "Note : with match case or else if ladder, code has to iterate over the all the blocks in worst case scenario. For this, optimized solution is to create key value pair of input and output and create dictionary(object in js). Of course this would work if we know what exactly input is going to be. Example:"
      ]
    },
    {
      "cell_type": "code",
      "execution_count": null,
      "metadata": {
        "id": "dxmzAexjIbX7",
        "outputId": "6a164fc5-d257-45d3-f1df-0843d2612d8f"
      },
      "outputs": [
        {
          "name": "stdout",
          "output_type": "stream",
          "text": [
            "yay\n"
          ]
        }
      ],
      "source": [
        "lang = input('Enter programming language')\n",
        "lang_dict = {\n",
        "    'js' : 'yay',\n",
        "    'java' : 'no no no',\n",
        "    'php' : 'no'\n",
        "}\n",
        "print(lang_dict[lang])\n"
      ]
    },
    {
      "cell_type": "markdown",
      "metadata": {
        "id": "L3tAfq1RIbX7"
      },
      "source": [
        "While loop"
      ]
    },
    {
      "cell_type": "markdown",
      "metadata": {
        "id": "Sof9QLUVIbX7"
      },
      "source": [
        "With the while loop we can execute a set of statements as long as a condition is true. With the break statement we can stop the loop even if the while condition is true. With the continue statement we can stop the current iteration, and continue with the next. With the else statement we can run a block of code once when the condition no longer is true.\n",
        "Example: Printing Even numbers till the desired number reaches\n",
        "\n"
      ]
    },
    {
      "cell_type": "code",
      "execution_count": null,
      "metadata": {
        "id": "eKWUm1vyIbX8",
        "outputId": "8359e918-bab9-40ae-b1b4-13b8f20ffa8a"
      },
      "outputs": [
        {
          "name": "stdout",
          "output_type": "stream",
          "text": [
            "2\n",
            "4\n",
            "6\n",
            "8\n",
            "10\n",
            "12\n",
            "14\n",
            "16\n",
            "18\n"
          ]
        }
      ],
      "source": [
        "desired_number = 20\n",
        "count = 0\n",
        "while count <=desired_number:\n",
        "    count+=1\n",
        "    if(count+ 1 > 20):\n",
        "        break\n",
        "    elif count % 2 == 0:\n",
        "        print(count)\n",
        "    else:\n",
        "        continue   # Skip the rest of the loop for odd numbers\n",
        "else:\n",
        "    print('Finished counting without hitting a break.')    # This block runs only if the loop wasn't exited by 'break'"
      ]
    },
    {
      "cell_type": "markdown",
      "metadata": {
        "id": "PlTHVcrmIbX8"
      },
      "source": [
        "For Loop"
      ]
    },
    {
      "cell_type": "markdown",
      "metadata": {
        "id": "jm-OD-zEIbX8"
      },
      "source": [
        "A for loop is used for iterating over a sequence (that is either a list, a tuple, a dictionary, a set, or a string).\n",
        "\n",
        "This is less like the for keyword in other programming languages, and works more like an iterator method as found in other object-orientated programming languages.\n",
        "\n",
        "With the for loop we can execute a set of statements, once for each item in a list, tuple, set etc."
      ]
    },
    {
      "cell_type": "code",
      "execution_count": null,
      "metadata": {
        "id": "3jzAQhBYIbX8"
      },
      "outputs": [],
      "source": [
        "array = [\"apple\", \"banana\", \"cherry\"] #initial array declaration"
      ]
    },
    {
      "cell_type": "code",
      "execution_count": null,
      "metadata": {
        "id": "sTU75BaxIbX8",
        "outputId": "1ab36eaa-901e-4cb8-a31a-4322307a4135"
      },
      "outputs": [
        {
          "name": "stdout",
          "output_type": "stream",
          "text": [
            "apple\n",
            "banana\n",
            "cherry\n"
          ]
        }
      ],
      "source": [
        "#simple for in loop\n",
        "for x in array:\n",
        "    print(x)"
      ]
    },
    {
      "cell_type": "code",
      "execution_count": null,
      "metadata": {
        "id": "bJycgTOpIbX8",
        "outputId": "e735a9fa-fbcf-4bd2-b098-f73c93e40053"
      },
      "outputs": [
        {
          "name": "stdout",
          "output_type": "stream",
          "text": [
            "b\n",
            "a\n",
            "n\n",
            "a\n",
            "n\n",
            "a\n"
          ]
        }
      ],
      "source": [
        "#looping through string\n",
        "for x in 'banana':\n",
        "    print(x)"
      ]
    },
    {
      "cell_type": "markdown",
      "metadata": {
        "id": "cDlsb5AxIbYA"
      },
      "source": [
        "We can use break and continue same as in while loop"
      ]
    },
    {
      "cell_type": "code",
      "execution_count": null,
      "metadata": {
        "id": "Af0435nHIbYA",
        "outputId": "19930bbf-8668-435f-a880-a2b69fce0ded"
      },
      "outputs": [
        {
          "name": "stdout",
          "output_type": "stream",
          "text": [
            "apple\n"
          ]
        }
      ],
      "source": [
        "for x in array:\n",
        "\n",
        "    if x == 'banana':\n",
        "        continue\n",
        "    elif x == 'cherry':\n",
        "        break\n",
        "    else:\n",
        "        print(x)"
      ]
    },
    {
      "cell_type": "markdown",
      "metadata": {
        "id": "vBwhNTsNIbYB"
      },
      "source": [
        "For loop using Range function"
      ]
    },
    {
      "cell_type": "markdown",
      "metadata": {
        "id": "rfKYssgyIbYB"
      },
      "source": [
        "To loop through a set of code a specified number of times, we can use the range() function,\n",
        "The range() function returns a sequence of numbers, starting from 0 by default, and increments by 1 (by default), and ends at a specified number. Range is same as js's for(let i = 0;i<12;i++)"
      ]
    },
    {
      "cell_type": "code",
      "execution_count": null,
      "metadata": {
        "id": "qoXNNB2-IbYB",
        "outputId": "115910e2-6fa1-44aa-b64b-457ffd6e5fb0"
      },
      "outputs": [
        {
          "name": "stdout",
          "output_type": "stream",
          "text": [
            "0\n",
            "1\n",
            "2\n"
          ]
        }
      ],
      "source": [
        "#simple range example\n",
        "for x in range(3):\n",
        "    print(x)"
      ]
    },
    {
      "cell_type": "code",
      "execution_count": null,
      "metadata": {
        "id": "KaTxCP9IIbYB",
        "outputId": "bba8dc13-e661-4ed8-a745-e8a3d0ae1d27"
      },
      "outputs": [
        {
          "name": "stdout",
          "output_type": "stream",
          "text": [
            "2\n",
            "3\n",
            "4\n",
            "5\n"
          ]
        }
      ],
      "source": [
        "#range with start and stop\n",
        "for x in range(2,6):\n",
        "    print(x)"
      ]
    },
    {
      "cell_type": "markdown",
      "metadata": {
        "id": "5uxg0Zg8IbYB"
      },
      "source": [
        "The range() function defaults to increment the sequence by 1, however it is possible to specify the increment value by adding a third parameter: range(2, 10, 3). js equivalent is for(let i = 0; i < 12; i=i+3)"
      ]
    },
    {
      "cell_type": "code",
      "execution_count": null,
      "metadata": {
        "id": "IC645ZZSIbYB",
        "outputId": "40639748-4c15-4224-b0c8-94a693d2c3e5"
      },
      "outputs": [
        {
          "name": "stdout",
          "output_type": "stream",
          "text": [
            "2\n",
            "5\n",
            "8\n"
          ]
        }
      ],
      "source": [
        "for x in range(2,10,3):\n",
        "    print(x)"
      ]
    },
    {
      "cell_type": "markdown",
      "metadata": {
        "id": "OEXcv6O2IbYB"
      },
      "source": [
        "Else in For Loop\n",
        "The else keyword in a for loop specifies a block of code to be executed when the loop is finished, without break."
      ]
    },
    {
      "cell_type": "code",
      "execution_count": null,
      "metadata": {
        "id": "3tSNw9VxIbYB",
        "outputId": "f5a94d35-1e8a-4e4b-d6bd-ea83f1ee8e03"
      },
      "outputs": [
        {
          "name": "stdout",
          "output_type": "stream",
          "text": [
            "0\n",
            "1\n",
            "2\n",
            "3\n",
            "4\n",
            "5\n",
            "finished!\n"
          ]
        }
      ],
      "source": [
        "#without break\n",
        "for x in range(6):\n",
        "    print(x)\n",
        "else:\n",
        "    print('finished!')"
      ]
    },
    {
      "cell_type": "code",
      "execution_count": null,
      "metadata": {
        "id": "yFdPEzr9IbYB",
        "outputId": "4c08962f-0acf-48a5-e098-f9185d83c033"
      },
      "outputs": [
        {
          "name": "stdout",
          "output_type": "stream",
          "text": [
            "0\n",
            "1\n",
            "2\n"
          ]
        }
      ],
      "source": [
        "#with break\n",
        "for x in range(6):\n",
        "    if(x == 3):\n",
        "        break\n",
        "    else:\n",
        "        print(x)\n",
        "else:\n",
        "    print('finished!')\n"
      ]
    },
    {
      "cell_type": "code",
      "source": [
        "noneObj = None;\n",
        "print(noneObj)"
      ],
      "metadata": {
        "colab": {
          "base_uri": "https://localhost:8080/"
        },
        "id": "YKI8yjIWPL8T",
        "outputId": "8cb1d052-7103-4db3-e4de-f90bdcdcc1fd"
      },
      "execution_count": null,
      "outputs": [
        {
          "output_type": "stream",
          "name": "stdout",
          "text": [
            "None\n"
          ]
        }
      ]
    },
    {
      "cell_type": "markdown",
      "metadata": {
        "id": "xB0clbRuIbYC"
      },
      "source": [
        "Pass Statement in for loop"
      ]
    },
    {
      "cell_type": "markdown",
      "metadata": {
        "id": "DH2Lbf-YIbYC"
      },
      "source": [
        "The pass Statement\n",
        "for loops cannot be empty, but if you for some reason have a for loop with no content, put in the pass statement to avoid getting an error.\n",
        "for x in [0, 1, 2]:\n",
        "  pass"
      ]
    },
    {
      "cell_type": "markdown",
      "source": [
        "List Methods in Python"
      ],
      "metadata": {
        "id": "7LuRuGGveqGj"
      }
    },
    {
      "cell_type": "markdown",
      "source": [
        "List are flexible and can hold any type of data in the same array (numbers, strings, objects, etc.).\n",
        "They are implemented as dynamic, resizable lists.\n",
        "List is dynamic, allow mixed data types, and support nesting."
      ],
      "metadata": {
        "id": "CaGje6oCevQe"
      }
    },
    {
      "cell_type": "code",
      "execution_count": null,
      "metadata": {
        "id": "YSlXWV9qIbYC"
      },
      "outputs": [],
      "source": [
        "my_list = [1, \"hello\", {\"key\": \"value\"}, [2, 3]]"
      ]
    },
    {
      "cell_type": "markdown",
      "source": [
        "List can be created using square brackets [] or the list() constructor. We can also create list using range function."
      ],
      "metadata": {
        "id": "JNpcMIB2fGws"
      }
    },
    {
      "cell_type": "code",
      "source": [
        "my_list1 = [1,2,3]\n",
        "my_list2 = list([1,2,3])\n",
        "my_list3 = list(range(6))\n",
        "my_list4 = list(range(1,6))\n",
        "print(my_list1,my_list2,my_list3,my_list4)"
      ],
      "metadata": {
        "colab": {
          "base_uri": "https://localhost:8080/"
        },
        "id": "pI2Q7MPCflgd",
        "outputId": "037ae349-4cba-4206-cf01-b567f59f9416"
      },
      "execution_count": null,
      "outputs": [
        {
          "output_type": "stream",
          "name": "stdout",
          "text": [
            "[1, 2, 3] [1, 2, 3] [0, 1, 2, 3, 4, 5] [1, 2, 3, 4, 5]\n"
          ]
        }
      ]
    },
    {
      "cell_type": "markdown",
      "source": [
        "Note: Python lists always initialize with values (even None).\n",
        "Python lists always have a state—they are either empty ([]) or contain specific values (like None or others).\n",
        "If you explicitly initialize a list with None, it will contain those values.\n",
        "If no initialization values are provided, the list starts empty."
      ],
      "metadata": {
        "id": "FqZ3G77egE8a"
      }
    },
    {
      "cell_type": "code",
      "source": [
        "empty_list = []\n",
        "print(empty_list)"
      ],
      "metadata": {
        "colab": {
          "base_uri": "https://localhost:8080/"
        },
        "id": "5eUCs6NegMZP",
        "outputId": "9bd9515c-fecb-4ac2-be03-80b5541d74cc"
      },
      "execution_count": null,
      "outputs": [
        {
          "output_type": "stream",
          "name": "stdout",
          "text": [
            "[]\n"
          ]
        }
      ]
    },
    {
      "cell_type": "markdown",
      "source": [
        "Use len(list) to get the size."
      ],
      "metadata": {
        "id": "qtOLJDI_g88a"
      }
    },
    {
      "cell_type": "code",
      "source": [
        "print(len(my_list3))"
      ],
      "metadata": {
        "colab": {
          "base_uri": "https://localhost:8080/"
        },
        "id": "H8IOgnhMg-K3",
        "outputId": "8dd4d24c-64be-49c9-ce77-fc5ae2da11ae"
      },
      "execution_count": null,
      "outputs": [
        {
          "output_type": "stream",
          "name": "stdout",
          "text": [
            "6\n"
          ]
        }
      ]
    },
    {
      "cell_type": "markdown",
      "source": [
        "### Adding and Removing Elements\n",
        "\n",
        "| **Action**                  | **JavaScript (Array)**                       | **Python (List)**           |\n",
        "|-----------------------------|----------------------------------------------|-----------------------------|\n",
        "| **Add at the end**          | `array.push(item)`                          | `list.append(item)`         |\n",
        "| **Add at the beginning**    | `array.unshift(item)`                       | `list.insert(0, item)`      |\n",
        "| **Remove from the end**     | `array.pop()`                               | `list.pop()`                |\n",
        "| **Remove from the beginning** | `array.shift()`                           | `list.pop(0)`               |\n",
        "| **Add multiple elements**   | `array.push(...[item1, item2])`             | `list.extend([item1, item2])` |\n",
        "| **Remove by value**         | `array.splice(array.indexOf(item), 1)`      | `list.remove(item)`         |\n",
        "\n",
        "**Similarity**: Both support similar operations, but the method names differ (e.g., `push` vs. `append`).\n"
      ],
      "metadata": {
        "id": "nNBfgeYghOcg"
      }
    },
    {
      "cell_type": "code",
      "source": [
        "arr = [1,2,3]\n",
        "arr.append(4)\n",
        "print('after append',arr)\n",
        "arr.insert(0,0.5)\n",
        "print('after adding item from the beginning',arr)\n",
        "arr.pop()\n",
        "print('removing last item')\n",
        "arr.pop(0)\n",
        "print('removed item from the beginning',arr)\n",
        "arr.extend([4,5,6])\n",
        "print('after adding multiple items',arr)\n",
        "arr.remove(6)\n",
        "print('after removing item by value',arr)"
      ],
      "metadata": {
        "colab": {
          "base_uri": "https://localhost:8080/"
        },
        "id": "l8u5dRL_hhXK",
        "outputId": "c55f723c-35a1-486f-8de8-03b03acbac79"
      },
      "execution_count": null,
      "outputs": [
        {
          "output_type": "stream",
          "name": "stdout",
          "text": [
            "after append [1, 2, 3, 4]\n",
            "after adding item from the beginning [0.5, 1, 2, 3, 4]\n",
            "removing last item\n",
            "removed item from the beginning [1, 2, 3]\n",
            "after adding multiple items [1, 2, 3, 4, 5, 6]\n",
            "after removing item by value [1, 2, 3, 4, 5]\n"
          ]
        }
      ]
    },
    {
      "cell_type": "markdown",
      "source": [
        "Indexing and Slicing\n",
        "list indexing is same as js\n",
        "\n",
        "> arr[index]\n",
        "\n",
        "Also,list supports negative indexing natively, refers to last element list\n",
        "for slicing ,\n",
        "Slicing with\n",
        "\n",
        "> list[start:end:step].\n"
      ],
      "metadata": {
        "id": "L9I6LP2LjJWl"
      }
    },
    {
      "cell_type": "code",
      "source": [
        "arr2 = [1,2,3]\n",
        "print('indexing',arr2[2])\n",
        "print('negative indexing',arr2[-1])\n",
        "print('slicing',arr2[0:2])"
      ],
      "metadata": {
        "colab": {
          "base_uri": "https://localhost:8080/"
        },
        "id": "ReNKOuOxjilh",
        "outputId": "7974cc53-7e88-4943-bdca-422504aefa7f"
      },
      "execution_count": null,
      "outputs": [
        {
          "output_type": "stream",
          "name": "stdout",
          "text": [
            "indexing 3\n",
            "negative indexing 3\n",
            "slicing [1, 2]\n"
          ]
        }
      ]
    },
    {
      "cell_type": "markdown",
      "source": [
        "Like map method in js, we can create list, using following\n",
        "\n",
        "> [callback(x) for x in list]\n"
      ],
      "metadata": {
        "id": "OVWWu0CulNdj"
      }
    },
    {
      "cell_type": "code",
      "source": [
        "# example - double each item in list\n",
        "arr3  = [2,3,4,5]\n",
        "\n",
        "def callback(x):\n",
        "  return x*2\n",
        "mapped_arr = [callback(x) for x in arr3]\n",
        "print(arr3,mapped_arr)"
      ],
      "metadata": {
        "colab": {
          "base_uri": "https://localhost:8080/"
        },
        "id": "FxUkRrr5lNG8",
        "outputId": "0224419c-5d67-4021-e4cb-95a32d9b323e"
      },
      "execution_count": null,
      "outputs": [
        {
          "output_type": "stream",
          "name": "stdout",
          "text": [
            "[2, 3, 4, 5] [4, 6, 8, 10]\n"
          ]
        }
      ]
    },
    {
      "cell_type": "markdown",
      "source": [
        "For Similar functionaity filter method in js , we can create new list by using\n",
        " > [x for x in list if condition]\n"
      ],
      "metadata": {
        "id": "rwineDb_mmdD"
      }
    },
    {
      "cell_type": "code",
      "source": [
        "#example - get even numbers list\n",
        "\n",
        "arr4 = [1,2,3,4,5]\n",
        "filtered_arr = [x for x in arr4 if x % 2 == 0]\n",
        "print(arr4, filtered_arr)"
      ],
      "metadata": {
        "colab": {
          "base_uri": "https://localhost:8080/"
        },
        "id": "V2sXbUOrm7yc",
        "outputId": "b47ea5a2-08c4-45e4-c6f0-15dc8cec51b7"
      },
      "execution_count": null,
      "outputs": [
        {
          "output_type": "stream",
          "name": "stdout",
          "text": [
            "[1, 2, 3, 4, 5] [2, 4]\n"
          ]
        }
      ]
    },
    {
      "cell_type": "markdown",
      "source": [
        "For similar js method reduce, we can use functools like this\n",
        "\n",
        "> functools.reduce(callback, list)\n",
        "\n",
        "> callback: A function that takes two arguments and returns a single value.\n",
        "\n",
        "> list: The list to reduce.\n",
        "\n",
        "> initializer (optional): A starting value for the reduction.\n",
        "\n"
      ],
      "metadata": {
        "id": "uNPBXRk8nW19"
      }
    },
    {
      "cell_type": "code",
      "source": [
        "# example - add all items in array\n",
        "from functools import reduce\n",
        "arr5 = [1,2,3,4,5]\n",
        "def reduce_callback(x,y):\n",
        "  return x+y\n",
        "reduced_arr = reduce(reduce_callback,arr5)\n",
        "print(reduced_arr)"
      ],
      "metadata": {
        "colab": {
          "base_uri": "https://localhost:8080/"
        },
        "id": "FfT6eDZcn50f",
        "outputId": "00268419-0c60-4184-a5bc-a00063e10bff"
      },
      "execution_count": null,
      "outputs": [
        {
          "output_type": "stream",
          "name": "stdout",
          "text": [
            "15\n"
          ]
        }
      ]
    },
    {
      "cell_type": "markdown",
      "source": [
        "Sorting\n",
        "\n",
        "Use list.sort() for in-place sorting or sorted(list) for a new list.\n",
        "Default is numeric/lexicographical sort."
      ],
      "metadata": {
        "id": "EI4W6KIvpnU5"
      }
    },
    {
      "cell_type": "code",
      "source": [
        "unsorted_list  = [2,1,3,5,6,4,7,8]\n",
        "sorted_list = sorted(unsorted_list)\n",
        "print(sorted_list)\n",
        "unsorted_list.sort() # doesn't create new list , changes existing list\n",
        "print(unsorted_list)"
      ],
      "metadata": {
        "colab": {
          "base_uri": "https://localhost:8080/"
        },
        "id": "s_hrSDpspxOt",
        "outputId": "07b2a48c-224e-430c-8560-8544c718186c"
      },
      "execution_count": null,
      "outputs": [
        {
          "output_type": "stream",
          "name": "stdout",
          "text": [
            "[1, 2, 3, 4, 5, 6, 7, 8]\n",
            "[1, 2, 3, 4, 5, 6, 7, 8]\n"
          ]
        }
      ]
    },
    {
      "cell_type": "markdown",
      "source": [
        "List flattening\n",
        "Like arr.flat() in js, we can flatten array by using itertools module\n",
        "\n",
        ">list(itertools.chain(*list))\n",
        "\n",
        ">here, * is indicating that there is another list as item in parent list, which will be flattened to single array\n",
        "\n",
        "> to combine 2 arrays simply use list(itertools.chain(list1,list2))\n",
        "\n",
        "> we can also combine tuples using itertools"
      ],
      "metadata": {
        "id": "vZKoVpTxq6Hb"
      }
    },
    {
      "cell_type": "code",
      "source": [
        "import itertools\n",
        "arr6 = [1,2,3]\n",
        "arr7 = [4,5,6]\n",
        "combined_list = list(itertools.chain(arr6,arr7))\n",
        "print(combined_list)\n",
        "arr8 = [[1,2,3],[4,5,6]]\n",
        "flattened_list = list(itertools.chain(*arr8))\n",
        "print(flattened_list)"
      ],
      "metadata": {
        "colab": {
          "base_uri": "https://localhost:8080/"
        },
        "id": "860IbVyarJ2A",
        "outputId": "4f514724-57b5-4f3e-ca3b-51a383d81539"
      },
      "execution_count": null,
      "outputs": [
        {
          "output_type": "stream",
          "name": "stdout",
          "text": [
            "[1, 2, 3, 4, 5, 6]\n",
            "[1, 2, 3, 4, 5, 6]\n"
          ]
        }
      ]
    },
    {
      "cell_type": "markdown",
      "source": [
        "Some more list methods\n",
        ">\n",
        "| **Method**   | **Description**                                                           |\n",
        "|--------------|---------------------------------------------------------------------------|\n",
        "                                   |\n",
        "| `clear()`    | Removes all the elements from the list                                    |\n",
        "| `copy()`     | Returns a copy of the list                                                |\n",
        "| `count()`    | Returns the number of elements with the specified value             |\n",
        "| `index()`    | Returns the index of the first element with the specified value           |\n",
        "| `insert()`   | Adds an element at the specified position                                                     |\n",
        "| `remove()`   | Removes the first item with the specified value                           |\n",
        "| `reverse()`  | Reverses the order of the list                                                            |\n"
      ],
      "metadata": {
        "id": "GN_kt98Ws_-w"
      }
    },
    {
      "cell_type": "code",
      "source": [
        "arr9 = [1,2,3,4,1,2,3]\n",
        "arr10 = arr9.copy()\n",
        "print(arr10)\n",
        "print('count of 1 is',arr10.count(1))\n",
        "print('index of 2 is',arr10.index(2))\n",
        "arr10.insert(2,3)\n",
        "print('after inserting 3 at index 2',arr10)\n",
        "arr10.remove(3)\n",
        "print('after removing first 3',arr10)\n",
        "arr10.reverse()\n",
        "print('after reversing',arr10)\n",
        "arr9.clear()\n",
        "print('after clear',arr9)"
      ],
      "metadata": {
        "colab": {
          "base_uri": "https://localhost:8080/"
        },
        "id": "zKN8MXqktko2",
        "outputId": "f57e5192-5e25-4f1e-bd2c-eefffb4949bd"
      },
      "execution_count": null,
      "outputs": [
        {
          "output_type": "stream",
          "name": "stdout",
          "text": [
            "[1, 2, 3, 4, 1, 2, 3]\n",
            "count of 1 is 2\n",
            "index of 2 is 1\n",
            "after inserting 3 at index 2 [1, 2, 3, 3, 4, 1, 2, 3]\n",
            "after removing first 3 [1, 2, 3, 4, 1, 2, 3]\n",
            "after reversing [3, 2, 1, 4, 3, 2, 1]\n",
            "after clear []\n"
          ]
        }
      ]
    },
    {
      "cell_type": "markdown",
      "source": [
        "Python Strings\n",
        "While there are certain similarities with string in js and python, there are some subtle difference too."
      ],
      "metadata": {
        "id": "IlGUxbTtvxFz"
      }
    }
  ],
  "metadata": {
    "kernelspec": {
      "display_name": "Python 3",
      "language": "python",
      "name": "python3"
    },
    "language_info": {
      "codemirror_mode": {
        "name": "ipython",
        "version": 3
      },
      "file_extension": ".py",
      "mimetype": "text/x-python",
      "name": "python",
      "nbconvert_exporter": "python",
      "pygments_lexer": "ipython3",
      "version": "3.12.3"
    },
    "colab": {
      "provenance": [],
      "include_colab_link": true
    }
  },
  "nbformat": 4,
  "nbformat_minor": 0
}